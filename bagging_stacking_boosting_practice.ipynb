{
  "nbformat": 4,
  "nbformat_minor": 0,
  "metadata": {
    "colab": {
      "provenance": [],
      "authorship_tag": "ABX9TyPzFU1xg2KAituXl7qToDg9",
      "include_colab_link": true
    },
    "kernelspec": {
      "name": "python3",
      "display_name": "Python 3"
    },
    "language_info": {
      "name": "python"
    }
  },
  "cells": [
    {
      "cell_type": "markdown",
      "metadata": {
        "id": "view-in-github",
        "colab_type": "text"
      },
      "source": [
        "<a href=\"https://colab.research.google.com/github/Ravindrakumarnayak/Machine_learning/blob/main/bagging_stacking_boosting_practice.ipynb\" target=\"_parent\"><img src=\"https://colab.research.google.com/assets/colab-badge.svg\" alt=\"Open In Colab\"/></a>"
      ]
    },
    {
      "cell_type": "code",
      "execution_count": 1,
      "metadata": {
        "id": "zztlVV4W6yva"
      },
      "outputs": [],
      "source": [
        "import pandas as pd\n",
        "import numpy as np\n",
        "import seaborn as sns\n",
        "import matplotlib.pyplot as plt"
      ]
    },
    {
      "cell_type": "code",
      "source": [
        "from pandas import read_csv\n",
        "\n",
        "from sklearn.model_selection import KFold\n",
        "from sklearn.model_selection import cross_val_score\n",
        "\n",
        "from sklearn.ensemble import  BaggingClassifier\n",
        "from sklearn.tree import DecisionTreeClassifier"
      ],
      "metadata": {
        "id": "OJfaglK27UvT"
      },
      "execution_count": 2,
      "outputs": []
    },
    {
      "cell_type": "code",
      "source": [
        "filename=\"/content/pima-indians-diabetes.csv\"\n",
        "names=[\"preg\",\"plas\",\"pres\",\"skin\",\"test\",\"mass\",\"pedi\",\"age\",\"class\"]\n",
        "dataframe=read_csv(filename,names=names)\n",
        "array=dataframe.values\n",
        "x =array[:,0:8]\n",
        "y=array[:,8]\n",
        "seed=7\n",
        "kfold=KFold(n_splits=10, random_state=seed,shuffle=True) # evaluation method\n",
        "cart= DecisionTreeClassifier()\n",
        "num_trees=100\n",
        "\n",
        "model=BaggingClassifier(estimator= cart,n_estimators=num_trees,random_state=None) # classifier\n",
        "result=cross_val_score(model,x,y,cv=kfold)"
      ],
      "metadata": {
        "id": "vkfJYyik7OjS"
      },
      "execution_count": 3,
      "outputs": []
    },
    {
      "cell_type": "code",
      "source": [
        "result"
      ],
      "metadata": {
        "colab": {
          "base_uri": "https://localhost:8080/"
        },
        "id": "FoqPWUEo9yTO",
        "outputId": "2be9009f-4b95-47b8-830d-c478e1e96a4b"
      },
      "execution_count": 4,
      "outputs": [
        {
          "output_type": "execute_result",
          "data": {
            "text/plain": [
              "array([0.76623377, 0.79220779, 0.72727273, 0.79220779, 0.80519481,\n",
              "       0.83116883, 0.71428571, 0.77922078, 0.78947368, 0.75      ])"
            ]
          },
          "metadata": {},
          "execution_count": 4
        }
      ]
    },
    {
      "cell_type": "code",
      "source": [
        "result.mean()"
      ],
      "metadata": {
        "colab": {
          "base_uri": "https://localhost:8080/"
        },
        "id": "WlR-OmWG-L0m",
        "outputId": "06f9ce28-493f-4930-861f-cb9cd8dbbad9"
      },
      "execution_count": 5,
      "outputs": [
        {
          "output_type": "execute_result",
          "data": {
            "text/plain": [
              "0.7747265892002735"
            ]
          },
          "metadata": {},
          "execution_count": 5
        }
      ]
    },
    {
      "cell_type": "code",
      "source": [
        "# random forest\n",
        "\n",
        "from pandas import read_csv\n",
        "\n",
        "from sklearn.model_selection import KFold\n",
        "from sklearn.model_selection import cross_val_score\n",
        "\n",
        "from sklearn.ensemble import RandomForestClassifier\n",
        "from sklearn.tree import DecisionTreeClassifier"
      ],
      "metadata": {
        "id": "Sb95bosf-S5-"
      },
      "execution_count": 6,
      "outputs": []
    },
    {
      "cell_type": "code",
      "source": [
        "from scipy.sparse import random\n",
        "filename=\"/content/pima-indians-diabetes.csv\"\n",
        "names=[\"preg\",\"plas\",\"pres\",\"skin\",\"test\",\"mass\",\"pedi\",\"age\",\"class\"]\n",
        "dataframe=read_csv(filename,names=names)\n",
        "array=dataframe.values\n",
        "x =array[:,0:8]\n",
        "y=array[:,8]\n",
        "seed=7\n",
        "max_features=3\n",
        "\n",
        "kfold=KFold(n_splits=10)# bootstrap\n",
        "cart= DecisionTreeClassifier()\n",
        "num_trees=100\n",
        "\n",
        "model=RandomForestClassifier(n_estimators=num_trees  , max_features=max_features) # classifier\n",
        "result=cross_val_score(model,x,y,cv=kfold)"
      ],
      "metadata": {
        "id": "eAJHKQ-u_44W"
      },
      "execution_count": 7,
      "outputs": []
    },
    {
      "cell_type": "code",
      "source": [
        "result"
      ],
      "metadata": {
        "colab": {
          "base_uri": "https://localhost:8080/"
        },
        "id": "_U51GT_5Ap9b",
        "outputId": "ff1233bf-70fd-4dc5-cf5b-4e659594966f"
      },
      "execution_count": 8,
      "outputs": [
        {
          "output_type": "execute_result",
          "data": {
            "text/plain": [
              "array([0.7012987 , 0.80519481, 0.72727273, 0.64935065, 0.76623377,\n",
              "       0.80519481, 0.85714286, 0.85714286, 0.68421053, 0.76315789])"
            ]
          },
          "metadata": {},
          "execution_count": 8
        }
      ]
    },
    {
      "cell_type": "code",
      "source": [
        "result.mean()"
      ],
      "metadata": {
        "colab": {
          "base_uri": "https://localhost:8080/"
        },
        "id": "pavhLu1jBDiZ",
        "outputId": "ba5c55b9-2928-4ba3-9a60-b3c83099a71c"
      },
      "execution_count": 9,
      "outputs": [
        {
          "output_type": "execute_result",
          "data": {
            "text/plain": [
              "0.7616199589883801"
            ]
          },
          "metadata": {},
          "execution_count": 9
        }
      ]
    },
    {
      "cell_type": "code",
      "source": [
        "# ada boost\n"
      ],
      "metadata": {
        "id": "i3v5WJydBF3D"
      },
      "execution_count": 10,
      "outputs": []
    },
    {
      "cell_type": "code",
      "source": [
        "from sklearn.ensemble import  AdaBoostClassifier"
      ],
      "metadata": {
        "id": "qtJiVXOK9TH4"
      },
      "execution_count": 11,
      "outputs": []
    },
    {
      "cell_type": "code",
      "source": [
        "filename=\"/content/pima-indians-diabetes.csv\"\n",
        "names=[\"preg\",\"plas\",\"pres\",\"skin\",\"test\",\"mass\",\"pedi\",\"age\",\"class\"]\n",
        "dataframe=read_csv(filename,names=names)\n",
        "array=dataframe.values\n",
        "x =array[:,0:8]\n",
        "y=array[:,8]\n",
        "seed=7\n",
        "max_features=3\n",
        "\n",
        "\n",
        "\n",
        "num_trees=10\n",
        "\n",
        "kfold=KFold(n_splits=10,random_state=seed, shuffle=True )# bootstrap\n",
        "model=AdaBoostClassifier(n_estimators=num_trees  ,random_state=seed) # classifier\n",
        "result=cross_val_score(model,x,y,cv=kfold)"
      ],
      "metadata": {
        "id": "R4yml_XO9aKm"
      },
      "execution_count": 13,
      "outputs": []
    },
    {
      "cell_type": "code",
      "source": [
        "result"
      ],
      "metadata": {
        "colab": {
          "base_uri": "https://localhost:8080/"
        },
        "id": "IZY1-WN9-NV9",
        "outputId": "3ac7b855-4be8-4a66-e622-0b503ecac3b4"
      },
      "execution_count": 14,
      "outputs": [
        {
          "output_type": "execute_result",
          "data": {
            "text/plain": [
              "array([0.80519481, 0.74025974, 0.67532468, 0.81818182, 0.80519481,\n",
              "       0.79220779, 0.71428571, 0.75324675, 0.78947368, 0.77631579])"
            ]
          },
          "metadata": {},
          "execution_count": 14
        }
      ]
    },
    {
      "cell_type": "code",
      "source": [
        "result.mean()"
      ],
      "metadata": {
        "colab": {
          "base_uri": "https://localhost:8080/"
        },
        "id": "Qols_9HB-N6o",
        "outputId": "ceb5188a-6c8c-4f26-b673-ec829c02c938"
      },
      "execution_count": 16,
      "outputs": [
        {
          "output_type": "execute_result",
          "data": {
            "text/plain": [
              "0.7669685577580314"
            ]
          },
          "metadata": {},
          "execution_count": 16
        }
      ]
    },
    {
      "cell_type": "code",
      "source": [
        "# stacking"
      ],
      "metadata": {
        "id": "bnS5rrtK-Q30"
      },
      "execution_count": null,
      "outputs": []
    },
    {
      "cell_type": "code",
      "source": [
        "from pandas import read_csv\n",
        "\n",
        "from sklearn.model_selection import KFold\n",
        "from sklearn.model_selection import cross_val_score\n",
        "\n",
        "from sklearn.ensemble import RandomForestClassifier\n",
        "from sklearn.tree import DecisionTreeClassifier\n",
        "from sklearn.linear_model import LogisticRegression\n",
        "from sklearn.svm import SVC\n",
        "from sklearn.ensemble import VotingClassifier"
      ],
      "metadata": {
        "id": "0w9xrJgJ-r5o"
      },
      "execution_count": 32,
      "outputs": []
    },
    {
      "cell_type": "code",
      "source": [
        "estimators=[]\n",
        "\n",
        "\n",
        "model1=LogisticRegression(max_iter=100)\n",
        "estimators.append((\"logistic\",model1))\n",
        "\n",
        "model2=DecisionTreeClassifier()\n",
        "estimators.append((\"cart\",model2))\n",
        "\n",
        "\n",
        "model3=SVC()\n",
        "estimators.append((\"svc\",model3))\n",
        "\n",
        "\n",
        "#essemble model\n",
        "essemble=VotingClassifier(estimators)\n",
        "result=cross_val_score(model,x,y,cv=kfold)\n",
        "\n"
      ],
      "metadata": {
        "id": "A3BjBvgG-_RT"
      },
      "execution_count": 33,
      "outputs": []
    },
    {
      "cell_type": "code",
      "source": [
        "result"
      ],
      "metadata": {
        "colab": {
          "base_uri": "https://localhost:8080/"
        },
        "id": "GPYFs156A0BN",
        "outputId": "7a9abc87-4c69-4bcb-9bcd-e8d38eef1027"
      },
      "execution_count": 34,
      "outputs": [
        {
          "output_type": "execute_result",
          "data": {
            "text/plain": [
              "array([0.80519481, 0.74025974, 0.67532468, 0.81818182, 0.80519481,\n",
              "       0.79220779, 0.71428571, 0.75324675, 0.78947368, 0.77631579])"
            ]
          },
          "metadata": {},
          "execution_count": 34
        }
      ]
    },
    {
      "cell_type": "code",
      "source": [
        "result.mean()"
      ],
      "metadata": {
        "colab": {
          "base_uri": "https://localhost:8080/"
        },
        "id": "5Ulayv1hB-Xx",
        "outputId": "b090f118-f276-4150-db82-190257a70d0d"
      },
      "execution_count": 35,
      "outputs": [
        {
          "output_type": "execute_result",
          "data": {
            "text/plain": [
              "0.7669685577580314"
            ]
          },
          "metadata": {},
          "execution_count": 35
        }
      ]
    },
    {
      "cell_type": "code",
      "source": [],
      "metadata": {
        "id": "W0LGTawwB_88"
      },
      "execution_count": null,
      "outputs": []
    }
  ]
}