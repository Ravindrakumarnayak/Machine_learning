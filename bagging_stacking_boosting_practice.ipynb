{
  "nbformat": 4,
  "nbformat_minor": 0,
  "metadata": {
    "colab": {
      "provenance": [],
      "authorship_tag": "ABX9TyPIqDUCsZDqGimhxP85HK+5",
      "include_colab_link": true
    },
    "kernelspec": {
      "name": "python3",
      "display_name": "Python 3"
    },
    "language_info": {
      "name": "python"
    }
  },
  "cells": [
    {
      "cell_type": "markdown",
      "metadata": {
        "id": "view-in-github",
        "colab_type": "text"
      },
      "source": [
        "<a href=\"https://colab.research.google.com/github/Ravindrakumarnayak/Machine_learning/blob/main/bagging_stacking_boosting_practice.ipynb\" target=\"_parent\"><img src=\"https://colab.research.google.com/assets/colab-badge.svg\" alt=\"Open In Colab\"/></a>"
      ]
    },
    {
      "cell_type": "code",
      "execution_count": 1,
      "metadata": {
        "id": "zztlVV4W6yva"
      },
      "outputs": [],
      "source": [
        "import pandas as pd\n",
        "import numpy as np\n",
        "import seaborn as sns\n",
        "import matplotlib.pyplot as plt"
      ]
    },
    {
      "cell_type": "code",
      "source": [
        "from pandas import read_csv\n",
        "\n",
        "from sklearn.model_selection import KFold\n",
        "from sklearn.model_selection import cross_val_score\n",
        "\n",
        "from sklearn.ensemble import  BaggingClassifier\n",
        "from sklearn.tree import DecisionTreeClassifier"
      ],
      "metadata": {
        "id": "OJfaglK27UvT"
      },
      "execution_count": 2,
      "outputs": []
    },
    {
      "cell_type": "code",
      "source": [
        "filename=\"/content/pima-indians-diabetes.csv\"\n",
        "names=[\"preg\",\"plas\",\"pres\",\"skin\",\"test\",\"mass\",\"pedi\",\"age\",\"class\"]\n",
        "dataframe=read_csv(filename,names=names)\n",
        "array=dataframe.values\n",
        "x =array[:,0:8]\n",
        "y=array[:,8]\n",
        "seed=7\n",
        "kfold=KFold(n_splits=10, random_state=seed,shuffle=True) # evaluation method\n",
        "cart= DecisionTreeClassifier()\n",
        "num_trees=100\n",
        "\n",
        "model=BaggingClassifier(estimator= cart,n_estimators=num_trees,random_state=None) # classifier\n",
        "result=cross_val_score(model,x,y,cv=kfold)"
      ],
      "metadata": {
        "id": "vkfJYyik7OjS"
      },
      "execution_count": 5,
      "outputs": []
    },
    {
      "cell_type": "code",
      "source": [
        "result"
      ],
      "metadata": {
        "colab": {
          "base_uri": "https://localhost:8080/"
        },
        "id": "FoqPWUEo9yTO",
        "outputId": "100384a5-0ca2-4841-9469-89b08ecb2b01"
      },
      "execution_count": 7,
      "outputs": [
        {
          "output_type": "execute_result",
          "data": {
            "text/plain": [
              "array([0.76623377, 0.79220779, 0.72727273, 0.81818182, 0.80519481,\n",
              "       0.77922078, 0.64935065, 0.79220779, 0.77631579, 0.75      ])"
            ]
          },
          "metadata": {},
          "execution_count": 7
        }
      ]
    },
    {
      "cell_type": "code",
      "source": [
        "result.mean()"
      ],
      "metadata": {
        "colab": {
          "base_uri": "https://localhost:8080/"
        },
        "id": "WlR-OmWG-L0m",
        "outputId": "562f6209-084b-481b-9880-b16e085ee144"
      },
      "execution_count": 9,
      "outputs": [
        {
          "output_type": "execute_result",
          "data": {
            "text/plain": [
              "0.7656185919343814"
            ]
          },
          "metadata": {},
          "execution_count": 9
        }
      ]
    },
    {
      "cell_type": "code",
      "source": [
        "# random forest\n",
        "\n",
        "from pandas import read_csv\n",
        "\n",
        "from sklearn.model_selection import KFold\n",
        "from sklearn.model_selection import cross_val_score\n",
        "\n",
        "from sklearn.ensemble import RandomForestClassifier\n",
        "from sklearn.tree import DecisionTreeClassifier"
      ],
      "metadata": {
        "id": "Sb95bosf-S5-"
      },
      "execution_count": 13,
      "outputs": []
    },
    {
      "cell_type": "code",
      "source": [
        "from scipy.sparse import random\n",
        "filename=\"/content/pima-indians-diabetes.csv\"\n",
        "names=[\"preg\",\"plas\",\"pres\",\"skin\",\"test\",\"mass\",\"pedi\",\"age\",\"class\"]\n",
        "dataframe=read_csv(filename,names=names)\n",
        "array=dataframe.values\n",
        "x =array[:,0:8]\n",
        "y=array[:,8]\n",
        "seed=7\n",
        "max_features=3\n",
        "\n",
        "kfold=KFold(n_splits=10)# bootstrap\n",
        "cart= DecisionTreeClassifier()\n",
        "num_trees=100\n",
        "\n",
        "model=RandomForestClassifier(n_estimators=num_trees  , max_features=max_features) # classifier\n",
        "result=cross_val_score(model,x,y,cv=kfold)"
      ],
      "metadata": {
        "id": "eAJHKQ-u_44W"
      },
      "execution_count": 16,
      "outputs": []
    },
    {
      "cell_type": "code",
      "source": [
        "result"
      ],
      "metadata": {
        "colab": {
          "base_uri": "https://localhost:8080/"
        },
        "id": "_U51GT_5Ap9b",
        "outputId": "fe283f32-f442-4ef7-9564-b35305e5316b"
      },
      "execution_count": 17,
      "outputs": [
        {
          "output_type": "execute_result",
          "data": {
            "text/plain": [
              "array([0.66233766, 0.81818182, 0.72727273, 0.67532468, 0.80519481,\n",
              "       0.83116883, 0.84415584, 0.84415584, 0.68421053, 0.77631579])"
            ]
          },
          "metadata": {},
          "execution_count": 17
        }
      ]
    },
    {
      "cell_type": "code",
      "source": [
        "result.mean()"
      ],
      "metadata": {
        "colab": {
          "base_uri": "https://localhost:8080/"
        },
        "id": "pavhLu1jBDiZ",
        "outputId": "c9ea93a7-f277-4a9a-8821-a2963d4a05f4"
      },
      "execution_count": 18,
      "outputs": [
        {
          "output_type": "execute_result",
          "data": {
            "text/plain": [
              "0.7668318523581681"
            ]
          },
          "metadata": {},
          "execution_count": 18
        }
      ]
    },
    {
      "cell_type": "code",
      "source": [
        "# to be continued"
      ],
      "metadata": {
        "id": "i3v5WJydBF3D"
      },
      "execution_count": null,
      "outputs": []
    }
  ]
}